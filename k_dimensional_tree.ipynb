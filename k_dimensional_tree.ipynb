{
 "cells": [
  {
   "cell_type": "markdown",
   "id": "9d6fe477",
   "metadata": {},
   "source": [
    "# KD-TREE: K Dimensional Trees\n",
    "\n",
    "KD Trees are data structures for storing data by pationing k dimensional space using a tree structure for quicker nearest neighbor serches.\n"
   ]
  },
  {
   "cell_type": "code",
   "execution_count": null,
   "id": "8565435d",
   "metadata": {},
   "outputs": [],
   "source": [
    "from __future__ import annotations\n",
    "import numpy as np\n",
    "import matplotlib.pyplot as plt\n",
    "import matplotlib.colors as mcolors"
   ]
  },
  {
   "cell_type": "code",
   "execution_count": null,
   "id": "411ff350",
   "metadata": {},
   "outputs": [],
   "source": [
    "NUM_POINTS = 20\n",
    "K = 2\n",
    "\n",
    "points_A = np.random.rand(K, NUM_POINTS)\n",
    "plt.scatter(points_A[0,:], points_A[1,:])"
   ]
  },
  {
   "cell_type": "code",
   "execution_count": null,
   "id": "3b00f23f",
   "metadata": {},
   "outputs": [],
   "source": [
    "class Node():\n",
    "    \"\"\"Class for Nodes in the KD Tree\"\"\"\n",
    "    axis: int\n",
    "    value: float\n",
    "    left_child: Node | LeafNode\n",
    "    right_child: Node | LeafNode\n",
    "\n",
    "class LeafNode():\n",
    "    \"\"\"Leaf Node for KD Tree\"\"\"\n",
    "    point: np.ndarray"
   ]
  },
  {
   "cell_type": "code",
   "execution_count": null,
   "id": "3958dbe5",
   "metadata": {},
   "outputs": [],
   "source": [
    "base_node = Node()\n",
    "work_list = [(base_node, points_A)]"
   ]
  },
  {
   "cell_type": "markdown",
   "id": "20038c51",
   "metadata": {},
   "source": [
    "## Tree Building Procedure\n",
    "\n",
    "Tree building is an iterative process of:\n",
    "- Choosing an *axis aligned* threshold\n",
    "- partioning the points into the two child nodes.\n",
    "\n",
    "This is continued until all points have been partioned into leaf nodes.\n",
    "\n",
    "Building a tree with $N$ points has complexity $ \\mathcal{O}(N\\log{}N)$"
   ]
  },
  {
   "cell_type": "code",
   "execution_count": null,
   "id": "d867e491",
   "metadata": {},
   "outputs": [],
   "source": [
    "def procss_node(parent_node: Node, points: np.ndarray, plot : bool = True):\n",
    "    # We use the axis with the largest variance as heuristic\n",
    "    # for choosing which axis to split.\n",
    "    cov = np.cov(points)\n",
    "    parent_node.axis = 0\n",
    "    if cov[1,1] > cov[0,0]:\n",
    "        parent_node.axis = 1\n",
    "\n",
    "    # For split value, we choose the mean.\n",
    "    # Something like median is would be more likely to produce a balanced tree.\n",
    "    parent_node.value = np.mean(points[parent_node.axis, :])\n",
    "\n",
    "    # For us, \"left\" child is less than the split value.\n",
    "    # Here, we filter out the points for the left child node.\n",
    "    left_list = points[:,points[parent_node.axis, :] < parent_node.value]\n",
    "    # Then check if it should be a leaf node.\n",
    "    if left_list.shape[1] > 1:\n",
    "        parent_node.left_child = Node()\n",
    "        work_list.append((parent_node.left_child, left_list))\n",
    "    else:\n",
    "        parent_node.left_child = LeafNode()\n",
    "        parent_node.left_child.point = left_list\n",
    "\n",
    "    # The same process is repeated on the right.\n",
    "    right_list = points[:,points[parent_node.axis, :] > parent_node.value]\n",
    "    if right_list.shape[1] > 1:\n",
    "        parent_node.right_child = Node()\n",
    "        work_list.append((parent_node.right_child, right_list))\n",
    "    else:\n",
    "        parent_node.right_child = LeafNode()\n",
    "        parent_node.right_child.point = right_list\n",
    "\n",
    "    # Plotting logic.\n",
    "    if plot:\n",
    "        fig = plt.figure()\n",
    "        ax = fig.add_axes([0,0,1,1])\n",
    "        ax.scatter(points_A[0,:], points_A[1, :], c='grey')\n",
    "        ax.scatter(left_list[0,:], left_list[1,:], c='r')\n",
    "        ax.scatter(right_list[0,:], right_list[1,:], c='b')\n",
    "        if parent_node.axis == 0:\n",
    "            ax.plot([parent_node.value, parent_node.value], [0, 1])\n",
    "        else:\n",
    "            ax.plot([0, 1], [parent_node.value, parent_node.value])\n"
   ]
  },
  {
   "cell_type": "markdown",
   "id": "befae146",
   "metadata": {},
   "source": [
    "**The following cell is meant to be run iteratively**"
   ]
  },
  {
   "cell_type": "code",
   "execution_count": null,
   "id": "23fd6539",
   "metadata": {
    "scrolled": true
   },
   "outputs": [],
   "source": [
    "parent_node, points = work_list.pop(0)\n",
    "procss_node(parent_node, points, True)\n",
    "print(len(work_list))"
   ]
  },
  {
   "cell_type": "markdown",
   "id": "b58deb31",
   "metadata": {},
   "source": [
    "**This cell will finish of the work list without ploting**"
   ]
  },
  {
   "cell_type": "code",
   "execution_count": null,
   "id": "5d69c5f9",
   "metadata": {},
   "outputs": [],
   "source": [
    "while len(work_list) > 0:\n",
    "    parent_node, points = work_list.pop(0)\n",
    "    procss_node(parent_node, points, False)"
   ]
  },
  {
   "cell_type": "markdown",
   "id": "a215784d",
   "metadata": {},
   "source": [
    "## Tree Query\n",
    "\n",
    "Searching a tree for query point $p_q$ is a simple procedure of decending the tree by checking if the query point is on the \"left\" or \"right\" side of the axis-aligned partion associated with each node. The nearest neighbor is found in the leaf node at the end of this procedure.\n",
    "\n",
    "The complexity of searching for a nearest neighbor in a KD tree which contains $N$ points is $\\mathcal{O}(\\log{}N)$"
   ]
  },
  {
   "cell_type": "code",
   "execution_count": null,
   "id": "0e25b028",
   "metadata": {},
   "outputs": [],
   "source": [
    "query_point = np.random.rand(K, 1)\n",
    "current_node = base_node\n",
    "comparisons = 0"
   ]
  },
  {
   "cell_type": "markdown",
   "id": "be654c55",
   "metadata": {},
   "source": [
    "**The following cell is meant to be run iteratively.**"
   ]
  },
  {
   "cell_type": "code",
   "execution_count": null,
   "id": "f90b1e38",
   "metadata": {},
   "outputs": [],
   "source": [
    "# Plotting setup.\n",
    "fig = plt.figure()\n",
    "ax = fig.add_axes([0,0,1,1])\n",
    "ax.scatter(points_A[0,:], points_A[1, :], c='grey')\n",
    "ax.scatter(query_point[0,:], query_point[1,:], c='m')\n",
    "if current_node.axis == 0:\n",
    "    ax.plot([current_node.value, current_node.value], [0, 1])\n",
    "else:\n",
    "    ax.plot([0, 1], [current_node.value, current_node.value])\n",
    "\n",
    "# Actual logic of querying, a simple comparison\n",
    "comparisons += 1\n",
    "if query_point[current_node.axis] < current_node.value:\n",
    "    current_node = current_node.left_child\n",
    "else:\n",
    "    current_node = current_node.right_child\n",
    "\n",
    "# Check if we have reached a leaf node, and therefore, are done.\n",
    "if type(current_node) is LeafNode:\n",
    "    found_point = current_node.point\n",
    "    ax.scatter(found_point[0,:], found_point[1,:], c='g')\n",
    "    ax.set_title('Done!')"
   ]
  },
  {
   "cell_type": "code",
   "execution_count": null,
   "id": "f8df8662",
   "metadata": {},
   "outputs": [],
   "source": [
    "print(comparisons)\n",
    "print(np.log2(NUM_POINTS))"
   ]
  },
  {
   "cell_type": "code",
   "execution_count": null,
   "id": "393ad238",
   "metadata": {},
   "outputs": [],
   "source": []
  }
 ],
 "metadata": {
  "kernelspec": {
   "display_name": "Python 3 (ipykernel)",
   "language": "python",
   "name": "python3"
  },
  "language_info": {
   "codemirror_mode": {
    "name": "ipython",
    "version": 3
   },
   "file_extension": ".py",
   "mimetype": "text/x-python",
   "name": "python",
   "nbconvert_exporter": "python",
   "pygments_lexer": "ipython3",
   "version": "3.10.6"
  }
 },
 "nbformat": 4,
 "nbformat_minor": 5
}
