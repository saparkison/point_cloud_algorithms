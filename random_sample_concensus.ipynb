{
 "cells": [
  {
   "cell_type": "markdown",
   "id": "016de381",
   "metadata": {},
   "source": [
    "# RANSAC: RAndom SAmple Concencus\n",
    "\n",
    "An algorithm for model fitting with noisey data\n",
    "\n",
    "It follows an iterative 3 step process.\n",
    "1. Sample the minimum ammount of data to construct a model\n",
    "2. Fit a model to that data\n",
    "3. Check the remaining data to see if it fits the model\n",
    "\n",
    "These steps are repeated untill a predetermined inlier threshold is reached."
   ]
  },
  {
   "cell_type": "code",
   "execution_count": null,
   "id": "ea32b963",
   "metadata": {},
   "outputs": [],
   "source": [
    "import numpy as np\n",
    "import matplotlib.pyplot as plt\n",
    "\n",
    "from data.load_line import load_line\n",
    "from utils.lines import Line2D"
   ]
  },
  {
   "cell_type": "markdown",
   "id": "4fb6330b",
   "metadata": {},
   "source": [
    "## 2D Line Fitting\n",
    "\n",
    "Here, we are trying to perform 2D linear regression on noisy data. \n",
    "\n",
    "For a sample data, 10 points are sampled on a line, and 3 are uniformly sampled \"outlier\" points."
   ]
  },
  {
   "cell_type": "code",
   "execution_count": null,
   "id": "d1d51331",
   "metadata": {},
   "outputs": [],
   "source": [
    "line_points = load_line(noise_sigma = 0.05)\n",
    "outlier_points = np.random.rand(2,3)\n",
    "\n",
    "points = np.hstack((line_points, outlier_points))\n",
    "\n",
    "plt.scatter(line_points[0,:], line_points[1,:], c='b')\n",
    "plt.scatter(outlier_points[0,:], outlier_points[1,:], c='r')\n"
   ]
  },
  {
   "cell_type": "markdown",
   "id": "dfd52c24",
   "metadata": {},
   "source": [
    "### Step 1\n",
    "Sample without replacement two points to fit line to\n",
    "\n",
    "### Step 2\n",
    "Fit a line to those points\n",
    "\n",
    "internally the line is paramterize in slope-intercept form\n",
    "$$ y = m x_p + b$$\n",
    "\n",
    "we determine these parameters with two points $ a = [x_a, y_a], b = [x_b, y_b]$ using the following equations\n",
    "\n",
    "$$m = \\frac{y_b - y_a}{x_b-x_a}$$\n",
    "\n",
    "$$b = y_a - m x_a$$\n",
    "\n",
    "### Step 3\n",
    "Check for inliers.\n",
    "\n",
    "For determining the distance between a query point $q = [x_q, y_q]$ we use the following equation.\n",
    "\n",
    "$$ \\frac{| x_p - m * y_p - b | }{\\sqrt{1 +b^2}}\n",
    "$$\n",
    "\n",
    "\n",
    "**The following cell is meant to be run iteratively.**"
   ]
  },
  {
   "cell_type": "code",
   "execution_count": null,
   "id": "21761f2c",
   "metadata": {},
   "outputs": [],
   "source": [
    "# Step 1: Sample n=2 points.\n",
    "random_indexs = np.random.choice(points.shape[1], size=2, replace=False)\n",
    "\n",
    "# Step 2: Fit line to 2 points.\n",
    "sampled_line = Line2D.FromTwoPoints(points[:,random_indexs[0]], points[:, random_indexs[1]])\n",
    "\n",
    "# Step 3: Check Remaing point for inliers.\n",
    "THRESHOLD = 0.1\n",
    "inlier = []\n",
    "for i in range(0,points.shape[1]):\n",
    "    inlier.append(sampled_line.distance_to_point(points[:,i]) < THRESHOLD)\n",
    "    \n",
    "outlier = [not i for i in inlier]\n",
    "\n",
    "# Plotting code.\n",
    "plt.scatter(points[0, inlier], points[1, inlier], c='b')\n",
    "plt.scatter(points[0, outlier], points[1, outlier], c='r')\n",
    "plt.scatter(points[0, random_indexs], points[1, random_indexs], c='g')\n",
    "plt.axline([0,sampled_line.b], slope=sampled_line.m)\n",
    "    \n",
    "print(sum(inlier))"
   ]
  },
  {
   "cell_type": "code",
   "execution_count": null,
   "id": "ccd6c9e1",
   "metadata": {},
   "outputs": [],
   "source": []
  }
 ],
 "metadata": {
  "kernelspec": {
   "display_name": "Python 3 (ipykernel)",
   "language": "python",
   "name": "python3"
  },
  "language_info": {
   "codemirror_mode": {
    "name": "ipython",
    "version": 3
   },
   "file_extension": ".py",
   "mimetype": "text/x-python",
   "name": "python",
   "nbconvert_exporter": "python",
   "pygments_lexer": "ipython3",
   "version": "3.10.6"
  }
 },
 "nbformat": 4,
 "nbformat_minor": 5
}
