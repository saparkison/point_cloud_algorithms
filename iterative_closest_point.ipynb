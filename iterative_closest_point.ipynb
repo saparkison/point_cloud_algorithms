{
 "cells": [
  {
   "cell_type": "markdown",
   "id": "c64de27d",
   "metadata": {},
   "source": [
    "# ICP: Iterative Closest Point\n",
    "\n",
    "ICP is algorithm for aligning two sets of points, sometimes refered to as the point could (or point set) registration problem.\n",
    "\n",
    "Given two sets of points, a target set\n",
    "\n",
    "$$\\mathcal{X}_t = \\{x^t_i\\}, x^t_i \\in \\mathbb{R}^N$$\n",
    "\n",
    "and a source set\n",
    "\n",
    "$$\\mathcal{X}_s = \\{x^s_i\\}, x^s_i \\in \\mathbb{R}^N$$\n",
    "\n",
    "find a transformation $T$, that when applied to the source set\n",
    "\n",
    "$$\\mathbf{T}\\{x^s_i\\} = \\mathbf{R} x^s_i +\\mathbf{p} \\\\\n",
    "\\mathbf{R} \\in \\mathrm{SO}(N) \\\\\n",
    "\\mathbf{p} \\in \\mathbb{R}^N $$\n",
    "\n",
    "minimizes the distance between the two sets. This is done in an interative procdure.\n",
    "\n",
    "1. Determine the nearest neighbor points between each set\n",
    "2. Determine a transform $\\mathbf{T}$ that minimizes $\\sum_i || x^t_i -\\mathbf{T}\\{x^s_i\\} ||$ "
   ]
  },
  {
   "cell_type": "code",
   "execution_count": 1,
   "id": "6562a2c9",
   "metadata": {},
   "outputs": [],
   "source": [
    "import numpy as np\n",
    "import matplotlib.pyplot as plt\n",
    "from scipy.spatial import KDTree\n",
    "\n",
    "\n",
    "from data.load_corner import load_corner\n",
    "from utils.transforms import SE2"
   ]
  },
  {
   "cell_type": "code",
   "execution_count": 12,
   "id": "9eeccbde",
   "metadata": {},
   "outputs": [
    {
     "data": {
      "text/plain": [
       "(-0.6856097114827056,\n",
       " 0.2945528434039384,\n",
       " -0.05928311056665436,\n",
       " 1.2449453218997415)"
      ]
     },
     "execution_count": 12,
     "metadata": {},
     "output_type": "execute_result"
    },
    {
     "data": {
      "image/png": "[encoded data removed]",
      "text/plain": [
       "<Figure size 432x288 with 1 Axes>"
      ]
     },
     "metadata": {
      "needs_background": "light"
     },
     "output_type": "display_data"
    }
   ],
   "source": [
    "target_points = load_corner()\n",
    "\n",
    "gt_transform = SE2()\n",
    "gt_transform.t = np.random.rand(2,1) * 0.5\n",
    "gt_transform.set_theta(np.random.rand()*100)\n",
    "\n",
    "source_points = gt_transform @ load_corner(noise_sigma = 1e-2)\n",
    "\n",
    "plt.scatter(target_points[0,:], target_points[1,:], c='g')\n",
    "plt.scatter(source_points[0,:], source_points[1,:], c='b')\n",
    "plt.axis('equal')"
   ]
  },
  {
   "cell_type": "markdown",
   "id": "b7651bd6",
   "metadata": {},
   "source": [
    "## Finding the optimal Transformation\n",
    "\n",
    "Once we determine the nearest-neighbor associations, our task is to minimize the residuals between them. For point to point residuals, a closed-form optimal solution exists. \n",
    "\n",
    "### Optimal Rotation\n",
    "\n",
    "Finding the optimal rotation can be done using the singular value decompostion algorithm.\n",
    "\n",
    "First we compute the mean of the target and source points.\n",
    "$$ \\bar{x}^t = \\frac{\\sum_{i\\in I}{x^t_i}}{I} $$\n",
    "$$ \\bar{x}^s = \\frac{\\sum_{i\\in I}{x^s_i}}{I} $$\n",
    "\n",
    "With those, we can recenter the points and compute the cross covariance matrix.\n",
    "$$ \\tilde{x}^t_i = x^t_i - \\bar{x}^t$$\n",
    "$$ \\tilde{x}^s_i = x^s_i - \\bar{x}^t$$\n",
    "$$ C = \\sum_{i\\in I}{} \\tilde{x}^t_i {\\tilde{x}^s_i}^\\top$$\n",
    "\n",
    "if we take the SVD of $C$\n",
    "$$ U D V^\\top = \\mathtt{SVD}(C)$$\n",
    "\n",
    "the optimal rotation is\n",
    "$$\\mathbf{R} = U V^\\top$$\n",
    "\n",
    "### Optimal translation\n",
    "\n",
    "Once we have the rotation, finding the optimal translation is as simple as computing the offsets of the two means, rotated by the rotation matrix, or\n",
    "$$\\mathbf{p} = \\bar{x}^t - \\mathbf{R} \\bar{x}^s $$"
   ]
  },
  {
   "cell_type": "code",
   "execution_count": 13,
   "id": "3acce08c",
   "metadata": {},
   "outputs": [],
   "source": [
    "# Initialize estimate to identity\n",
    "current_transform = SE2()"
   ]
  },
  {
   "cell_type": "markdown",
   "id": "17dca9b5",
   "metadata": {},
   "source": [
    "**The following cell is meant to be run iteratively.**"
   ]
  },
  {
   "cell_type": "code",
   "execution_count": 17,
   "id": "e2a4c86c",
   "metadata": {},
   "outputs": [
    {
     "name": "stdout",
     "output_type": "stream",
     "text": [
      "1.944128986425528e-16\n"
     ]
    },
    {
     "data": {
      "image/png": "[encoded data removed]",
      "text/plain": [
       "<Figure size 432x288 with 1 Axes>"
      ]
     },
     "metadata": {
      "needs_background": "light"
     },
     "output_type": "display_data"
    }
   ],
   "source": [
    "current_source_points = current_transform @ source_points\n",
    "\n",
    "kd_tree = KDTree(target_points.T)\n",
    "_, ii = kd_tree.query(current_source_points.T)\n",
    "\n",
    "current_target_points = target_points[:, ii]\n",
    "residuals = current_target_points - current_source_points\n",
    "\n",
    "# Plotting details.\n",
    "for i_s, i_t in enumerate(ii):\n",
    "    plt.plot([current_source_points[0,i_s], target_points[0,i_t]],\n",
    "             [current_source_points[1,i_s], target_points[1,i_t]], c='r')\n",
    "    \n",
    "plt.scatter(target_points[0,:], target_points[1,:], c='g')\n",
    "plt.scatter(current_source_points[0,:], current_source_points[1,:], c='b')\n",
    "plt.axis('equal')\n",
    "\n",
    "# Find mean of source and target points\n",
    "mean_source = np.mean(current_source_points, axis=1)[:,np.newaxis]\n",
    "mean_target = np.mean(current_target_points, axis=1)[:,np.newaxis]\n",
    "\n",
    "# Recenter points around their mean.\n",
    "centered_source = (current_source_points - mean_source)\n",
    "centered_target = (current_target_points - mean_target)\n",
    "\n",
    "C = centered_target @ centered_source.T\n",
    "u, s, vh = np.linalg.svd(C)\n",
    "R = u @ vh\n",
    "t = mean_target - R @ mean_source\n",
    "update_transform  = SE2(R, t)\n",
    "current_transform = update_transform @ current_transform\n",
    "\n",
    "# Heuristic for stopping. If translation grows too small, it has converged.\n",
    "print(np.linalg.norm(t))"
   ]
  },
  {
   "cell_type": "code",
   "execution_count": 18,
   "id": "e6f04e75",
   "metadata": {},
   "outputs": [
    {
     "name": "stdout",
     "output_type": "stream",
     "text": [
      "Translation error: 0.0047403129803955165\n",
      "Rotation error (deg): 0.38446993219803105\n"
     ]
    }
   ],
   "source": [
    "diff_transform = gt_transform @ current_transform\n",
    "print(f'Translation error: {np.linalg.norm(diff_transform.t)}')\n",
    "print(f'Rotation error (deg): {diff_transform.get_theta()}')"
   ]
  },
  {
   "cell_type": "code",
   "execution_count": null,
   "id": "706ea126",
   "metadata": {},
   "outputs": [],
   "source": []
  }
 ],
 "metadata": {
  "kernelspec": {
   "display_name": "Python 3 (ipykernel)",
   "language": "python",
   "name": "python3"
  },
  "language_info": {
   "codemirror_mode": {
    "name": "ipython",
    "version": 3
   },
   "file_extension": ".py",
   "mimetype": "text/x-python",
   "name": "python",
   "nbconvert_exporter": "python",
   "pygments_lexer": "ipython3",
   "version": "3.10.6"
  }
 },
 "nbformat": 4,
 "nbformat_minor": 5
}
